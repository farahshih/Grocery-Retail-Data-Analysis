{
 "cells": [
  {
   "cell_type": "markdown",
   "metadata": {},
   "source": [
    "# Peanut Butter purchase data analysis"
   ]
  },
  {
   "cell_type": "markdown",
   "metadata": {},
   "source": [
    "This notebook involves two datasets from the Nielsen datasets: purchase data products data. The main task is to examine the sales pattern on two selected peanut butter UPCs. Due to data confidentiality, cell outputs are not shown.     \n",
    "Questions we tried to answer :    \n",
    "1) What is the distribution of purchase quantity according to different promotion types?    \n",
    "2) What is average spending/trip purchase per household on each product?     \n",
    "3) How JIF and Skippy's sales and price interact"
   ]
  },
  {
   "cell_type": "code",
   "execution_count": null,
   "metadata": {
    "collapsed": true
   },
   "outputs": [],
   "source": [
    "import pandas as pd\n",
    "import numpy as np"
   ]
  },
  {
   "cell_type": "code",
   "execution_count": null,
   "metadata": {
    "collapsed": true
   },
   "outputs": [],
   "source": [
    "import matplotlib.pyplot as plt"
   ]
  },
  {
   "cell_type": "code",
   "execution_count": null,
   "metadata": {
    "collapsed": true
   },
   "outputs": [],
   "source": [
    "from glob import glob "
   ]
  },
  {
   "cell_type": "code",
   "execution_count": null,
   "metadata": {
    "collapsed": false
   },
   "outputs": [],
   "source": [
    "%pylab inline"
   ]
  },
  {
   "cell_type": "code",
   "execution_count": null,
   "metadata": {
    "collapsed": false
   },
   "outputs": [],
   "source": [
    "!pwd"
   ]
  },
  {
   "cell_type": "code",
   "execution_count": null,
   "metadata": {
    "collapsed": false
   },
   "outputs": [],
   "source": [
    "cd ~/Documents/Codes/Retail_Analytics/Panel_Data/"
   ]
  },
  {
   "cell_type": "code",
   "execution_count": null,
   "metadata": {
    "collapsed": false
   },
   "outputs": [],
   "source": [
    "!ls"
   ]
  },
  {
   "cell_type": "code",
   "execution_count": null,
   "metadata": {
    "collapsed": false
   },
   "outputs": [],
   "source": [
    "!head ./2006/Annual_Files/trips_2006.tsv"
   ]
  },
  {
   "cell_type": "markdown",
   "metadata": {},
   "source": [
    "## Load and Prepare master data frame"
   ]
  },
  {
   "cell_type": "markdown",
   "metadata": {},
   "source": [
    "### Select peanut butter upc list"
   ]
  },
  {
   "cell_type": "code",
   "execution_count": null,
   "metadata": {
    "collapsed": false
   },
   "outputs": [],
   "source": [
    "fields = [\"upc\",\"upc_ver_uc\",\"upc_descr\",\"product_module_code\" ,\"product_module_descr\", \"product_group_code\", \n",
    "          \"brand_descr\", \"multi\", \"size1_amount\", \"size1_units\"]\n",
    "products = pd.read_csv(\"./Master_Files/Latest/products.tsv\", sep = '\\t', usecols=fields)"
   ]
  },
  {
   "cell_type": "code",
   "execution_count": null,
   "metadata": {
    "collapsed": false
   },
   "outputs": [],
   "source": [
    "products.dtypes"
   ]
  },
  {
   "cell_type": "code",
   "execution_count": null,
   "metadata": {
    "collapsed": false
   },
   "outputs": [],
   "source": [
    "## select products belong to peanut butter category\n",
    "peanut_butter = products.query('product_module_code==1421 & product_group_code == 506')"
   ]
  },
  {
   "cell_type": "code",
   "execution_count": null,
   "metadata": {
    "collapsed": false
   },
   "outputs": [],
   "source": [
    "peanut_butter.shape"
   ]
  },
  {
   "cell_type": "markdown",
   "metadata": {},
   "source": [
    "From 2004 to 2014, there are toatl 2,748 products in peanut butter category"
   ]
  },
  {
   "cell_type": "code",
   "execution_count": null,
   "metadata": {
    "collapsed": false
   },
   "outputs": [],
   "source": [
    "unique(peanut_butter.product_module_descr) # check if query successful"
   ]
  },
  {
   "cell_type": "code",
   "execution_count": null,
   "metadata": {
    "collapsed": false
   },
   "outputs": [],
   "source": [
    "peanut_butter['upc_descr']= peanut_butter['upc_descr'] + \" / \" + peanut_butter['size1_amount'].astype(str) + \" \" + peanut_butter['size1_units'] + \" / \" + peanut_butter['multi'].astype(str) "
   ]
  },
  {
   "cell_type": "code",
   "execution_count": null,
   "metadata": {
    "collapsed": false
   },
   "outputs": [],
   "source": [
    "peanut_butter.head(2)"
   ]
  },
  {
   "cell_type": "code",
   "execution_count": null,
   "metadata": {
    "collapsed": true
   },
   "outputs": [],
   "source": [
    "peanut_butter = peanut_butter[[\"upc\",\"upc_ver_uc\",\"upc_descr\",\"brand_descr\",\"multi\",\"size1_amount\"]]"
   ]
  },
  {
   "cell_type": "code",
   "execution_count": null,
   "metadata": {
    "collapsed": false
   },
   "outputs": [],
   "source": [
    "peanut_butter.head(2)"
   ]
  },
  {
   "cell_type": "markdown",
   "metadata": {},
   "source": [
    "### Merge pruchase file and PB upc list"
   ]
  },
  {
   "cell_type": "code",
   "execution_count": null,
   "metadata": {
    "collapsed": false
   },
   "outputs": [],
   "source": [
    "## make a list of fine names\n",
    "pl_path = glob('./2[0-1][0-1][0-9]/Annual_Files/purchases_*.tsv')\n",
    "pl_path"
   ]
  },
  {
   "cell_type": "code",
   "execution_count": null,
   "metadata": {
    "collapsed": true
   },
   "outputs": [],
   "source": [
    "sub_path = pl_path[4:8]"
   ]
  },
  {
   "cell_type": "code",
   "execution_count": null,
   "metadata": {
    "collapsed": false
   },
   "outputs": [],
   "source": [
    "sub_path"
   ]
  },
  {
   "cell_type": "code",
   "execution_count": null,
   "metadata": {
    "collapsed": false
   },
   "outputs": [],
   "source": [
    "print(\"Beginning to build Purchase Dataset: \")\n",
    "pl = pd.DataFrame()\n",
    "for i, path in enumerate(sub_path):\n",
    "    tmp = pd.read_csv(path, sep = '\\t')\n",
    "    pl = pl.append(tmp)\n",
    "    print(pl.shape)"
   ]
  },
  {
   "cell_type": "code",
   "execution_count": null,
   "metadata": {
    "collapsed": false
   },
   "outputs": [],
   "source": [
    "pl.head(2)"
   ]
  },
  {
   "cell_type": "code",
   "execution_count": null,
   "metadata": {
    "collapsed": false
   },
   "outputs": [],
   "source": [
    "peanut_butter.head(2)"
   ]
  },
  {
   "cell_type": "code",
   "execution_count": null,
   "metadata": {
    "collapsed": false
   },
   "outputs": [],
   "source": [
    "purchase = pd.merge(pl, peanut_butter, how='inner', sort=False, on=[\"upc\",\"upc_ver_uc\"])"
   ]
  },
  {
   "cell_type": "code",
   "execution_count": null,
   "metadata": {
    "collapsed": false
   },
   "outputs": [],
   "source": [
    "purchase.shape"
   ]
  },
  {
   "cell_type": "code",
   "execution_count": null,
   "metadata": {
    "collapsed": false
   },
   "outputs": [],
   "source": [
    "purchase.head(2)"
   ]
  },
  {
   "cell_type": "code",
   "execution_count": null,
   "metadata": {
    "collapsed": false
   },
   "outputs": [],
   "source": [
    "purchase.to_csv(\"./pb_purchase_11_14.csv\")"
   ]
  },
  {
   "cell_type": "markdown",
   "metadata": {},
   "source": [
    "### Merge PB purchase file with trip file"
   ]
  },
  {
   "cell_type": "code",
   "execution_count": null,
   "metadata": {
    "collapsed": false
   },
   "outputs": [],
   "source": [
    "tp_path = glob('./2[0-1][0-1][0-9]/Annual_Files/trips_*.tsv')\n",
    "tp_path = tp_path[4:8]\n",
    "tp_path"
   ]
  },
  {
   "cell_type": "code",
   "execution_count": null,
   "metadata": {
    "collapsed": false
   },
   "outputs": [],
   "source": [
    "fields = ['trip_code_uc', 'household_code', 'purchase_date','retailer_code', 'store_code_uc']\n",
    "print(\"Beginning to build Purchase Dataset: \")\n",
    "tp = pd.DataFrame()\n",
    "for i, path in enumerate(tp_path):\n",
    "    tmp = pd.read_csv(path, sep = '\\t',usecols=fields)\n",
    "    tp = tp.append(tmp)\n",
    "    print(tp.shape)"
   ]
  },
  {
   "cell_type": "code",
   "execution_count": null,
   "metadata": {
    "collapsed": false
   },
   "outputs": [],
   "source": [
    "tp.head(2)"
   ]
  },
  {
   "cell_type": "code",
   "execution_count": null,
   "metadata": {
    "collapsed": false
   },
   "outputs": [],
   "source": [
    "purchase.head(2)"
   ]
  },
  {
   "cell_type": "code",
   "execution_count": null,
   "metadata": {
    "collapsed": false
   },
   "outputs": [],
   "source": [
    "purchase.shape"
   ]
  },
  {
   "cell_type": "code",
   "execution_count": null,
   "metadata": {
    "collapsed": false
   },
   "outputs": [],
   "source": [
    "master_df = pd.merge(purchase, tp, on=\"trip_code_uc\", how='inner',sort=False)"
   ]
  },
  {
   "cell_type": "code",
   "execution_count": null,
   "metadata": {
    "collapsed": false
   },
   "outputs": [],
   "source": [
    "master_df.shape"
   ]
  },
  {
   "cell_type": "markdown",
   "metadata": {},
   "source": [
    "### Subset only Grocery store data "
   ]
  },
  {
   "cell_type": "code",
   "execution_count": null,
   "metadata": {
    "collapsed": false
   },
   "outputs": [],
   "source": [
    "retailers = pd.read_csv(\"./Master_Files/Latest/retailers.tsv\", sep = '\\t')"
   ]
  },
  {
   "cell_type": "code",
   "execution_count": null,
   "metadata": {
    "collapsed": false,
    "scrolled": true
   },
   "outputs": [],
   "source": [
    "retailers.head(2)"
   ]
  },
  {
   "cell_type": "code",
   "execution_count": null,
   "metadata": {
    "collapsed": false
   },
   "outputs": [],
   "source": [
    "master_df = pd.merge(master_df, retailers, on=\"retailer_code\", how=\"inner\", sort=False)"
   ]
  },
  {
   "cell_type": "code",
   "execution_count": null,
   "metadata": {
    "collapsed": false
   },
   "outputs": [],
   "source": [
    "master_df.shape"
   ]
  },
  {
   "cell_type": "code",
   "execution_count": null,
   "metadata": {
    "collapsed": false
   },
   "outputs": [],
   "source": [
    "master_df.to_csv(\"./master_df.csv\")"
   ]
  },
  {
   "cell_type": "code",
   "execution_count": null,
   "metadata": {
    "collapsed": false
   },
   "outputs": [],
   "source": [
    "grocery = master_df.query('channel_type==\"Grocery\"')"
   ]
  },
  {
   "cell_type": "code",
   "execution_count": null,
   "metadata": {
    "collapsed": false
   },
   "outputs": [],
   "source": [
    "grocery.shape"
   ]
  },
  {
   "cell_type": "code",
   "execution_count": null,
   "metadata": {
    "collapsed": true
   },
   "outputs": [],
   "source": [
    "grocery.to_csv(\"./grocery_df.csv\",index=False)"
   ]
  },
  {
   "cell_type": "markdown",
   "metadata": {},
   "source": [
    "## Multiple purchases Analysis"
   ]
  },
  {
   "cell_type": "markdown",
   "metadata": {},
   "source": [
    "### Transform variables"
   ]
  },
  {
   "cell_type": "code",
   "execution_count": null,
   "metadata": {
    "collapsed": false
   },
   "outputs": [],
   "source": [
    "grocery = pd.read_csv(\"./grocery_df.csv\")"
   ]
  },
  {
   "cell_type": "code",
   "execution_count": null,
   "metadata": {
    "collapsed": false
   },
   "outputs": [],
   "source": [
    "grocery.head(2)"
   ]
  },
  {
   "cell_type": "markdown",
   "metadata": {},
   "source": [
    "#### Compute unit_price_paid"
   ]
  },
  {
   "cell_type": "code",
   "execution_count": null,
   "metadata": {
    "collapsed": false
   },
   "outputs": [],
   "source": [
    "grocery['unit_price_paid'] = grocery.apply(lambda x: (x['total_price_paid']-x['coupon_value'])/x['quantity'], axis=1)"
   ]
  },
  {
   "cell_type": "code",
   "execution_count": null,
   "metadata": {
    "collapsed": false
   },
   "outputs": [],
   "source": [
    "grocery.head(2)"
   ]
  },
  {
   "cell_type": "markdown",
   "metadata": {},
   "source": [
    "#### select Skippy CRM 16.3 and JIF 18"
   ]
  },
  {
   "cell_type": "code",
   "execution_count": null,
   "metadata": {
    "collapsed": true
   },
   "outputs": [],
   "source": [
    "selected_df = grocery.query('upc_descr==\"SKP CRM H PLS / 16.3 OZ / 1\" | upc_descr==\"JIF CRM H PLS / 18.0 OZ / 1\"')"
   ]
  },
  {
   "cell_type": "code",
   "execution_count": null,
   "metadata": {
    "collapsed": false
   },
   "outputs": [],
   "source": [
    "unique(selected_df[\"upc_descr\"])"
   ]
  },
  {
   "cell_type": "code",
   "execution_count": null,
   "metadata": {
    "collapsed": false
   },
   "outputs": [],
   "source": [
    "selected_df.shape"
   ]
  },
  {
   "cell_type": "markdown",
   "metadata": {},
   "source": [
    "(68197,17)"
   ]
  },
  {
   "cell_type": "code",
   "execution_count": null,
   "metadata": {
    "collapsed": false
   },
   "outputs": [],
   "source": [
    "min(selected_df.unit_price_paid)"
   ]
  },
  {
   "cell_type": "code",
   "execution_count": null,
   "metadata": {
    "collapsed": false
   },
   "outputs": [],
   "source": [
    "selected_df = selected_df.query(\"unit_price_paid !=0\")"
   ]
  },
  {
   "cell_type": "code",
   "execution_count": null,
   "metadata": {
    "collapsed": false
   },
   "outputs": [],
   "source": [
    "selected_df.shape"
   ]
  },
  {
   "cell_type": "code",
   "execution_count": null,
   "metadata": {
    "collapsed": false
   },
   "outputs": [],
   "source": [
    "min(selected_df.unit_price_paid)"
   ]
  },
  {
   "cell_type": "code",
   "execution_count": null,
   "metadata": {
    "collapsed": false
   },
   "outputs": [],
   "source": [
    "selected_df['unit_price_paid'].describe()"
   ]
  },
  {
   "cell_type": "code",
   "execution_count": null,
   "metadata": {
    "collapsed": true
   },
   "outputs": [],
   "source": [
    "def price_bin(row):\n",
    "    if row['unit_price_paid']>=0 and row['unit_price_paid']<1.6 :\n",
    "        return '[0,1.6)'\n",
    "    if row['unit_price_paid']>=1.6 and row['unit_price_paid']<2.25 :\n",
    "        return '[1.6,2.25)'\n",
    "    if row['unit_price_paid']>=2.25 and row['unit_price_paid']<2.5 :\n",
    "        return '[2.25,2.5)'\n",
    "    if row['unit_price_paid']>=2.5 and row['unit_price_paid']<2.6 :\n",
    "        return '[2.5,2.6)'\n",
    "    if row['unit_price_paid']>=2.6 and row['unit_price_paid']<3 :\n",
    "        return '[2.6,3)'\n",
    "    return '[3, Inf) '"
   ]
  },
  {
   "cell_type": "code",
   "execution_count": null,
   "metadata": {
    "collapsed": true
   },
   "outputs": [],
   "source": [
    "selected_df['unit_P_range'] = selected_df.apply (lambda row: price_bin(row),axis=1)"
   ]
  },
  {
   "cell_type": "code",
   "execution_count": null,
   "metadata": {
    "collapsed": false
   },
   "outputs": [],
   "source": [
    "selected_df.head(2)"
   ]
  },
  {
   "cell_type": "code",
   "execution_count": null,
   "metadata": {
    "collapsed": false
   },
   "outputs": [],
   "source": [
    "selected_df.groupby(['brand_descr','unit_P_range','deal_flag_uc'])['trip_code_uc'].count().unstack(2)"
   ]
  },
  {
   "cell_type": "markdown",
   "metadata": {},
   "source": [
    "#### Examine basic statistics"
   ]
  },
  {
   "cell_type": "code",
   "execution_count": null,
   "metadata": {
    "collapsed": false
   },
   "outputs": [],
   "source": [
    "# how many households involved\n",
    "households = len(unique(selected_df.household_code))\n",
    "households"
   ]
  },
  {
   "cell_type": "code",
   "execution_count": null,
   "metadata": {
    "collapsed": false
   },
   "outputs": [],
   "source": [
    "trips = len(unique(selected_df.trip_code_uc))\n",
    "trips"
   ]
  },
  {
   "cell_type": "code",
   "execution_count": null,
   "metadata": {
    "collapsed": false
   },
   "outputs": [],
   "source": [
    "trips/households"
   ]
  },
  {
   "cell_type": "code",
   "execution_count": null,
   "metadata": {
    "collapsed": false
   },
   "outputs": [],
   "source": [
    "\n",
    "len(unique(selected_df.store_code_uc))"
   ]
  },
  {
   "cell_type": "code",
   "execution_count": null,
   "metadata": {
    "collapsed": false
   },
   "outputs": [],
   "source": [
    "# how many trip purchases for each brand\n",
    "selected_df.groupby(['brand_descr'])['trip_code_uc'].count()"
   ]
  },
  {
   "cell_type": "code",
   "execution_count": null,
   "metadata": {
    "collapsed": false
   },
   "outputs": [],
   "source": [
    "sum(selected_df.groupby(['brand_descr'])['trip_code_uc'].count())"
   ]
  },
  {
   "cell_type": "code",
   "execution_count": null,
   "metadata": {
    "collapsed": false
   },
   "outputs": [],
   "source": [
    "JIF = selected_df.query('brand_descr==\"JIF\"')\n",
    "JIF_gb = JIF.groupby(['household_code'])[['trip_code_uc']].count()"
   ]
  },
  {
   "cell_type": "code",
   "execution_count": null,
   "metadata": {
    "collapsed": false
   },
   "outputs": [],
   "source": [
    "len(unique(JIF.trip_code_uc))"
   ]
  },
  {
   "cell_type": "code",
   "execution_count": null,
   "metadata": {
    "collapsed": false
   },
   "outputs": [],
   "source": [
    "len(unique(JIF.household_code))"
   ]
  },
  {
   "cell_type": "code",
   "execution_count": null,
   "metadata": {
    "collapsed": false
   },
   "outputs": [],
   "source": [
    "len(unique(JIF.trip_code_uc))/len(unique(JIF.household_code))"
   ]
  },
  {
   "cell_type": "code",
   "execution_count": null,
   "metadata": {
    "collapsed": false
   },
   "outputs": [],
   "source": [
    "bin1 = numpy.linspace(1, 30, 30)"
   ]
  },
  {
   "cell_type": "code",
   "execution_count": null,
   "metadata": {
    "collapsed": false
   },
   "outputs": [],
   "source": [
    "plt.hist(JIF_gb.trip_code_uc, bin1)\n",
    "plt.title(\"Number of trips involving JIF per households\")\n",
    "plt.xlabel(\"Number of trips\")\n",
    "plt.ylabel(\"household counts\")"
   ]
  },
  {
   "cell_type": "code",
   "execution_count": null,
   "metadata": {
    "collapsed": false
   },
   "outputs": [],
   "source": [
    "SKIPPY = selected_df.query('brand_descr==\"SKIPPY\"')\n",
    "SKIPPY_gb = SKIPPY.groupby(['household_code'])[['trip_code_uc']].count()\n",
    "SKIPPY_gb.sum()"
   ]
  },
  {
   "cell_type": "code",
   "execution_count": null,
   "metadata": {
    "collapsed": false
   },
   "outputs": [],
   "source": [
    "len(unique(SKIPPY.trip_code_uc))"
   ]
  },
  {
   "cell_type": "code",
   "execution_count": null,
   "metadata": {
    "collapsed": false
   },
   "outputs": [],
   "source": [
    "len(unique(SKIPPY.household_code))"
   ]
  },
  {
   "cell_type": "code",
   "execution_count": null,
   "metadata": {
    "collapsed": false
   },
   "outputs": [],
   "source": [
    "len(unique(SKIPPY.trip_code_uc))/len(unique(SKIPPY.household_code))"
   ]
  },
  {
   "cell_type": "code",
   "execution_count": null,
   "metadata": {
    "collapsed": false
   },
   "outputs": [],
   "source": [
    "plt.hist(SKIPPY_gb.trip_code_uc, bin1)\n",
    "plt.title(\"Number of trips involving SKIPPY per households\")\n",
    "plt.xlabel(\"Number of trips\")\n",
    "plt.ylabel(\"household counts\")"
   ]
  },
  {
   "cell_type": "markdown",
   "metadata": {},
   "source": [
    "#### How many households purchase JIF and Skippy"
   ]
  },
  {
   "cell_type": "code",
   "execution_count": null,
   "metadata": {
    "collapsed": false
   },
   "outputs": [],
   "source": [
    "brands_hh = selected_df.groupby('household_code').brand_descr.nunique()\n",
    "brands_hh.value_counts()"
   ]
  },
  {
   "cell_type": "code",
   "execution_count": null,
   "metadata": {
    "collapsed": false
   },
   "outputs": [],
   "source": [
    "ls = brands_hh[brands_hh==2]\n",
    "ls.index"
   ]
  },
  {
   "cell_type": "code",
   "execution_count": null,
   "metadata": {
    "collapsed": false
   },
   "outputs": [],
   "source": [
    "len(ls.index)/brands_hh.shape[0]"
   ]
  },
  {
   "cell_type": "code",
   "execution_count": null,
   "metadata": {
    "collapsed": false
   },
   "outputs": [],
   "source": [
    "brands_tp = selected_df.groupby('trip_code_uc').brand_descr.nunique()\n",
    "brands_tp.value_counts()"
   ]
  },
  {
   "cell_type": "code",
   "execution_count": null,
   "metadata": {
    "collapsed": false
   },
   "outputs": [],
   "source": [
    "63/(63+65663)"
   ]
  },
  {
   "cell_type": "markdown",
   "metadata": {},
   "source": [
    "#### plot histogram according to deal_flag_uc"
   ]
  },
  {
   "cell_type": "code",
   "execution_count": null,
   "metadata": {
    "collapsed": false
   },
   "outputs": [],
   "source": [
    "from pylab import rcParams\n",
    "rcParams['figure.figsize'] = 6, 6"
   ]
  },
  {
   "cell_type": "code",
   "execution_count": null,
   "metadata": {
    "collapsed": true
   },
   "outputs": [],
   "source": [
    "bins = numpy.linspace(0, 25, 25)"
   ]
  },
  {
   "cell_type": "code",
   "execution_count": null,
   "metadata": {
    "collapsed": false
   },
   "outputs": [],
   "source": [
    "sub1 = selected_df.query('upc_descr==\"JIF CRM H PLS / 18.0 OZ / 1\" & deal_flag_uc==1')\n",
    "plt.hist(sub1.quantity,bins)\n",
    "plt.title(\"Purchase quantity for JIF CRM 18OZ if there is a deal\")\n",
    "plt.xlabel(\"purchase quantity per trip\")\n",
    "plt.ylabel(\"counts\")"
   ]
  },
  {
   "cell_type": "code",
   "execution_count": null,
   "metadata": {
    "collapsed": false
   },
   "outputs": [],
   "source": [
    "sub2 = selected_df.query('upc_descr==\"JIF CRM H PLS / 18.0 OZ / 1\" & deal_flag_uc==0')\n",
    "plt.hist(sub2.quantity,bins)\n",
    "plt.title(\"Purchase quantity for JIF CRM 18OZ if there is NO deal\")\n",
    "plt.xlabel(\"purchase quantity per trip\")\n",
    "plt.ylabel(\"counts\")"
   ]
  },
  {
   "cell_type": "code",
   "execution_count": null,
   "metadata": {
    "collapsed": false
   },
   "outputs": [],
   "source": [
    "sub3 = selected_df.query('upc_descr==\"SKP CRM H PLS / 16.3 OZ / 1\" & deal_flag_uc==1')\n",
    "plt.hist(sub3.quantity,bins)\n",
    "plt.title(\"Purchase quantity for SKIPPY CRM 16.3OZ if there is a deal\")\n",
    "plt.xlabel(\"purchase quantity per trip\")\n",
    "plt.ylabel(\"counts\")"
   ]
  },
  {
   "cell_type": "code",
   "execution_count": null,
   "metadata": {
    "collapsed": false
   },
   "outputs": [],
   "source": [
    "sub4 = selected_df.query('upc_descr==\"SKP CRM H PLS / 16.3 OZ / 1\" & deal_flag_uc==0')\n",
    "plt.hist(sub4.quantity,bins)\n",
    "plt.title(\"Purchase quantity for SKIPPY CRM 16.3OZ if there is NO deal\")\n",
    "plt.xlabel(\"purchase quantity per trip\")\n",
    "plt.ylabel(\"counts\")"
   ]
  },
  {
   "cell_type": "code",
   "execution_count": null,
   "metadata": {
    "collapsed": true
   },
   "outputs": [],
   "source": [
    "rcParams['figure.figsize'] = 17, 6"
   ]
  },
  {
   "cell_type": "code",
   "execution_count": null,
   "metadata": {
    "collapsed": false
   },
   "outputs": [],
   "source": [
    "sub6 = selected_df.query('upc_descr==\"JIF CRM H PLS / 18.0 OZ / 1\"')\n",
    "sub6 = sub6[['quantity','unit_P_range','deal_flag_uc']]\n",
    "sub6.boxplot(by=['unit_P_range','deal_flag_uc'])\n",
    "plt.title(\"JIF - Distribution of purchase quantity per trip according to price and deal (0=no deal)\")\n",
    "plt.ylabel(\"Purchase quantity\")"
   ]
  },
  {
   "cell_type": "code",
   "execution_count": null,
   "metadata": {
    "collapsed": false
   },
   "outputs": [],
   "source": [
    "sub5 = selected_df.query('upc_descr==\"SKP CRM H PLS / 16.3 OZ / 1\"')\n",
    "sub5 = sub5[['quantity','unit_P_range','deal_flag_uc']]\n",
    "sub5.boxplot(by=['unit_P_range','deal_flag_uc'])\n",
    "plt.title(\"Skippy - Distribution of purchase quantity per trip according to price and deal (0=no deal)\")\n",
    "plt.ylabel(\"Purchase quantity\")"
   ]
  },
  {
   "cell_type": "code",
   "execution_count": null,
   "metadata": {
    "collapsed": false
   },
   "outputs": [],
   "source": [
    "selected_df.query(' retailer_code==89').groupby(['upc_descr','unit_P_range','deal_flag_uc'])['trip_code_uc'].count().unstack(2)"
   ]
  },
  {
   "cell_type": "code",
   "execution_count": null,
   "metadata": {
    "collapsed": false
   },
   "outputs": [],
   "source": [
    "tmp=selected_df.query(' retailer_code==89')\n",
    "len(unique(tmp.store_code_uc))"
   ]
  },
  {
   "cell_type": "code",
   "execution_count": null,
   "metadata": {
    "collapsed": false
   },
   "outputs": [],
   "source": [
    "sub7 = selected_df.query('upc_descr==\"JIF CRM H PLS / 18.0 OZ / 1\" & retailer_code==89')\n",
    "sub7 = sub7[['quantity','unit_P_range','deal_flag_uc']]\n",
    "sub7.boxplot(by=['unit_P_range','deal_flag_uc'])\n",
    "plt.title(\"JIF - Distribution of purchase quantity per trip according to price and deal (0=no deal), retailer:89\")\n",
    "plt.ylabel(\"Purchase quantity\")\n",
    "plt.ylim((0,8))"
   ]
  },
  {
   "cell_type": "code",
   "execution_count": null,
   "metadata": {
    "collapsed": false
   },
   "outputs": [],
   "source": [
    "sub8 = selected_df.query('upc_descr==\"SKP CRM H PLS / 16.3 OZ / 1\" & retailer_code==89')\n",
    "sub8 = sub8[['quantity','unit_P_range','deal_flag_uc']]\n",
    "sub8.boxplot(by=['unit_P_range','deal_flag_uc'])\n",
    "plt.title(\"Skippy - Distribution of purchase quantity per trip according to price and deal (0=no deal), retailer:89\")\n",
    "plt.ylabel(\"Purchase quantity\")\n",
    "plt.ylim((0,8))"
   ]
  },
  {
   "cell_type": "markdown",
   "metadata": {},
   "source": [
    "#### How JIF and Skippy's sales and price interact"
   ]
  },
  {
   "cell_type": "code",
   "execution_count": null,
   "metadata": {
    "collapsed": false
   },
   "outputs": [],
   "source": [
    "tmp.head(2)"
   ]
  },
  {
   "cell_type": "code",
   "execution_count": null,
   "metadata": {
    "collapsed": false
   },
   "outputs": [],
   "source": [
    "# tmp.store_code_uc.value_counts()\n",
    "## below stores have most trips\n",
    "#2751743    61 (#trip)\n",
    "#7346835    60\n",
    "#742472     53"
   ]
  },
  {
   "cell_type": "code",
   "execution_count": null,
   "metadata": {
    "collapsed": false
   },
   "outputs": [],
   "source": [
    "tmp['purchase_date'] = pd.to_datetime(tmp['purchase_date'])"
   ]
  },
  {
   "cell_type": "code",
   "execution_count": null,
   "metadata": {
    "collapsed": false
   },
   "outputs": [],
   "source": [
    "tmp.dtypes"
   ]
  },
  {
   "cell_type": "code",
   "execution_count": null,
   "metadata": {
    "collapsed": true
   },
   "outputs": [],
   "source": [
    "rcParams['figure.figsize'] = 6, 6"
   ]
  },
  {
   "cell_type": "code",
   "execution_count": null,
   "metadata": {
    "collapsed": false
   },
   "outputs": [],
   "source": [
    "sub7 = selected_df.query('upc_descr==\"SKP CRM H PLS / 16.3 OZ / 1\" & deal_flag_uc==1')\n",
    "plt.scatter(x=sub7.unit_price_paid, y=sub7.quantity)\n",
    "plt.title(\"Scatter plot of unit_price and quantity - SKIPPY CRM 16.3OZ (with deal)\")\n",
    "plt.xlabel(\"Unit_price_paid\")\n",
    "plt.ylabel(\"Quantity\")"
   ]
  },
  {
   "cell_type": "code",
   "execution_count": null,
   "metadata": {
    "collapsed": false
   },
   "outputs": [],
   "source": [
    "sub8 = selected_df.query('upc_descr==\"SKP CRM H PLS / 16.3 OZ / 1\" & deal_flag_uc==0')\n",
    "plt.scatter(x=sub8.unit_price_paid, y=sub8.quantity)\n",
    "plt.title(\"Scatter plot of unit_price and quantity - SKIPPY CRM 16.3OZ (No deal)\")\n",
    "plt.xlabel(\"Unit_price_paid\")\n",
    "plt.ylabel(\"Quantity\")"
   ]
  }
 ],
 "metadata": {
  "kernelspec": {
   "display_name": "Python 3",
   "language": "python",
   "name": "python3"
  },
  "language_info": {
   "codemirror_mode": {
    "name": "ipython",
    "version": 3
   },
   "file_extension": ".py",
   "mimetype": "text/x-python",
   "name": "python",
   "nbconvert_exporter": "python",
   "pygments_lexer": "ipython3",
   "version": "3.5.2"
  }
 },
 "nbformat": 4,
 "nbformat_minor": 0
}
